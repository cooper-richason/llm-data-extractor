{
 "cells": [
  {
   "cell_type": "markdown",
   "metadata": {},
   "source": [
    "# Snowflake\n",
    "\n",
    "> Extract Data from text using LLM"
   ]
  },
  {
   "cell_type": "code",
   "execution_count": null,
   "metadata": {},
   "outputs": [],
   "source": [
    "#| default_exp db"
   ]
  },
  {
   "cell_type": "code",
   "execution_count": null,
   "metadata": {},
   "outputs": [],
   "source": [
    "#| hide\n",
    "from nbdev.showdoc import *"
   ]
  },
  {
   "cell_type": "code",
   "execution_count": null,
   "metadata": {},
   "outputs": [],
   "source": [
    "#| export\n",
    "from typing import List, Dict, Any\n",
    "import snowflake.connector\n",
    "import pandas as pd\n",
    "import json\n",
    "from llm_data_extractor.models import DBConfig"
   ]
  },
  {
   "cell_type": "code",
   "execution_count": null,
   "metadata": {},
   "outputs": [],
   "source": [
    "#| export\n",
    "\n",
    "def get_connection(config: DBConfig) -> snowflake.connector.SnowflakeConnection:\n",
    "    \"\"\"Establishes a connection to Snowflake.\"\"\"\n",
    "    conn_params = {\n",
    "        \"account\": config.account,\n",
    "        \"user\": config.user,\n",
    "        \"password\": config.password,\n",
    "        \"warehouse\": config.warehouse,\n",
    "        \"database\": config.database,\n",
    "        \"schema\": config.schema_,\n",
    "    }\n",
    "    if config.role:\n",
    "        conn_params[\"role\"] = config.role\n",
    "        \n",
    "    return snowflake.connector.connect(**conn_params)"
   ]
  },
  {
   "cell_type": "code",
   "execution_count": null,
   "metadata": {},
   "outputs": [],
   "source": [
    "#| export\n",
    "\n",
    "def fetch_data(query: str, conn: snowflake.connector.SnowflakeConnection) -> pd.DataFrame:\n",
    "    \"\"\"Fetches data from Snowflake using a given query.\"\"\"\n",
    "    cursor = conn.cursor()\n",
    "    try:\n",
    "        cursor.execute(query)\n",
    "        df = cursor.fetch_pandas_all()\n",
    "        return df\n",
    "    finally:\n",
    "        cursor.close()"
   ]
  },
  {
   "cell_type": "code",
   "execution_count": null,
   "metadata": {},
   "outputs": [],
   "source": [
    "#| export\n",
    "\n",
    "def insert_results(results: List[Dict[str, Any]], conn: snowflake.connector.SnowflakeConnection, table_name: str):\n",
    "    \"\"\"\n",
    "    Inserts or merges extraction results into a Snowflake table.\n",
    "\n",
    "    Args:\n",
    "        results: List of dictionaries, where each dictionary represents a row to insert.\n",
    "        conn: Snowflake connection object.\n",
    "        table_name: The name of the table to insert results into.\n",
    "    \"\"\"\n",
    "    if not results:\n",
    "        return\n",
    "\n",
    "    df = pd.DataFrame(results)\n",
    "    \n",
    "    # Use a temporary table for merging\n",
    "    temp_table_name = f\"temp_results_{pd.Timestamp.now().strftime('%Y%m%d%H%M%S')}\"\n",
    "    \n",
    "    from snowflake.connector.pandas_tools import write_pandas\n",
    "    \n",
    "    # 1. Write to temporary table\n",
    "    # Uppercase column names for Snowflake to avoid issues with case sensitivity\n",
    "    df.columns = [c.upper() for c in df.columns]\n",
    "    write_pandas(conn, df, temp_table_name.upper(), auto_create_table=True, overwrite=True)\n",
    "    \n",
    "    cursor = conn.cursor()\n",
    "    try:\n",
    "        # 2. Merge from temp table to target table\n",
    "        merge_sql = f\"\"\"\n",
    "        MERGE INTO {table_name} AS target\n",
    "        USING {temp_table_name.upper()} AS source\n",
    "        ON target.TABLE_NAME = source.TABLE_NAME\n",
    "        AND target.FIELD_NAME = source.FIELD_NAME\n",
    "        AND target.FIELD_ID = source.FIELD_ID\n",
    "        AND target.QUESTION_ID = source.QUESTION_ID\n",
    "        WHEN MATCHED THEN\n",
    "            UPDATE SET target.results = PARSE_JSON(source.RESULTS)\n",
    "        WHEN NOT MATCHED THEN\n",
    "            INSERT (TABLE_NAME, FIELD_NAME, FIELD_ID, QUESTION_ID, results)\n",
    "            VALUES (source.TABLE_NAME, source.FIELD_NAME, source.FIELD_ID, source.QUESTION_ID, PARSE_JSON(source.RESULTS))\n",
    "        \"\"\"\n",
    "        cursor.execute(merge_sql)\n",
    "    finally:\n",
    "        # 3. Drop temporary table\n",
    "        cursor.execute(f\"DROP TABLE IF EXISTS {temp_table_name.upper()}\")\n",
    "        cursor.close()\n"
   ]
  },
  {
   "cell_type": "code",
   "execution_count": null,
   "metadata": {},
   "outputs": [],
   "source": [
    "#| hide\n",
    "import nbdev; nbdev.nbdev_export()"
   ]
  }
 ],
 "metadata": {
  "kernelspec": {
   "display_name": "python3",
   "language": "python",
   "name": "python3"
  }
 },
 "nbformat": 4,
 "nbformat_minor": 4
}
