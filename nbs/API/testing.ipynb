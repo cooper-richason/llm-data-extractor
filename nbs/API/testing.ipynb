{
 "cells": [
  {
   "cell_type": "markdown",
   "id": "ff174160",
   "metadata": {},
   "source": [
    "\n",
    "# Local Testing"
   ]
  },
  {
   "cell_type": "code",
   "execution_count": null,
   "id": "c451475a",
   "metadata": {},
   "outputs": [],
   "source": []
  }
 ],
 "metadata": {
  "kernelspec": {
   "display_name": "python3",
   "language": "python",
   "name": "python3"
  }
 },
 "nbformat": 4,
 "nbformat_minor": 5
}
