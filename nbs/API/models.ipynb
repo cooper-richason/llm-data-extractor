{
 "cells": [
  {
   "cell_type": "markdown",
   "metadata": {},
   "source": [
    "# models\n",
    "\n",
    "> Data Models"
   ]
  },
  {
   "cell_type": "code",
   "execution_count": null,
   "metadata": {},
   "outputs": [],
   "source": [
    "#| default_exp models"
   ]
  },
  {
   "cell_type": "code",
   "execution_count": null,
   "metadata": {},
   "outputs": [],
   "source": [
    "#| hide\n",
    "from nbdev.showdoc import *"
   ]
  },
  {
   "cell_type": "code",
   "execution_count": null,
   "metadata": {},
   "outputs": [],
   "source": [
    "#| export\n",
    "\n",
    "from dataclasses import dataclass, field\n",
    "from typing import Any, Dict, List, Optional, Union\n",
    "from enum import Enum\n",
    "from datetime import datetime\n",
    "import os"
   ]
  },
  {
   "cell_type": "code",
   "execution_count": null,
   "metadata": {},
   "outputs": [],
   "source": [
    "#| export\n",
    "\n",
    "if not hasattr(os.environ,'PRODUCTION_SOURCE') or os.environ.get('PRODUCTION_SOURCE') == 'local':\n",
    "    from dotenv import load_dotenv\n",
    "    load_dotenv() "
   ]
  },
  {
   "cell_type": "code",
   "execution_count": null,
   "metadata": {},
   "outputs": [],
   "source": [
    "#| export\n",
    "\n",
    "class AnswerType(Enum):\n",
    "    BOOLEAN = \"boolean\"\n",
    "    ENUM = \"enum\" \n",
    "    INTEGER = \"integer\"\n",
    "    FLOAT = \"float\"\n",
    "    STRING = \"string\"\n",
    "    DATE = \"date\"\n",
    "    LIST = \"list\"\n"
   ]
  },
  {
   "cell_type": "code",
   "execution_count": null,
   "metadata": {},
   "outputs": [],
   "source": [
    "#| export\n",
    "\n",
    "@dataclass\n",
    "class Question:\n",
    "    id: str\n",
    "    text: str\n",
    "    answer_type: AnswerType\n",
    "    answer_config: Dict[str, Any] = field(default_factory=dict)\n",
    "    \n",
    "    def __post_init__(self):\n",
    "        if isinstance(self.answer_type, str):\n",
    "            self.answer_type = AnswerType(self.answer_type)"
   ]
  },
  {
   "cell_type": "code",
   "execution_count": null,
   "metadata": {},
   "outputs": [],
   "source": [
    "#| export\n",
    "\n",
    "@dataclass\n",
    "class ExtractionResult:\n",
    "    question_id: str\n",
    "    raw_answer: str\n",
    "    parsed_answer: Any\n",
    "    confidence: Optional[float]\n",
    "    is_valid: bool\n",
    "    input_row_id: Union[str,None] = None\n",
    "    table_name: str = 'PROCESSED_FORMSTACK_DATA'\n",
    "    field_name: str = 'MESSAGE'\n",
    "    validation_error: Optional[str] = None\n",
    "    timestamp: datetime = field(default_factory=datetime.now)"
   ]
  },
  {
   "cell_type": "code",
   "execution_count": null,
   "metadata": {},
   "outputs": [],
   "source": [
    "#| export\n",
    "\n",
    "@dataclass\n",
    "class LLMConfig:\n",
    "    model_name: str = \"gpt-3.5-turbo\"\n",
    "    temperature: float = 0.0\n",
    "    max_tokens: Optional[int] = None\n",
    "    api_key: Optional[str] = None\n",
    "    base_url: Optional[str] = None\n",
    "    timeout: int = 60\n",
    "    max_retries: int = 3"
   ]
  },
  {
   "cell_type": "code",
   "execution_count": null,
   "metadata": {},
   "outputs": [],
   "source": [
    "#| export\n",
    "\n",
    "@dataclass\n",
    "class DBConfig:\n",
    "    schema_: str\n",
    "    account: str = os.environ.get('SNOWFLAKE_ACCOUNT')\n",
    "    user: str = os.environ.get('SNOWFLAKE_USER')\n",
    "    password: str = os.environ.get('SNOWFLAKE_PASSWORD')\n",
    "    warehouse: str = os.environ.get('SNOWFLAKE_WAREHOUSE')\n",
    "    database: str = os.environ.get('SNOWFLAKE_DATABASE')\n",
    "    role: Optional[str] = None"
   ]
  },
  {
   "cell_type": "code",
   "execution_count": null,
   "metadata": {},
   "outputs": [],
   "source": [
    "#| hide\n",
    "import nbdev; nbdev.nbdev_export()"
   ]
  }
 ],
 "metadata": {
  "kernelspec": {
   "display_name": "python3",
   "language": "python",
   "name": "python3"
  }
 },
 "nbformat": 4,
 "nbformat_minor": 4
}
