{
 "cells": [
  {
   "cell_type": "markdown",
   "metadata": {},
   "source": [
    "# logging\n",
    "\n",
    "> Data Models"
   ]
  },
  {
   "cell_type": "code",
   "execution_count": null,
   "metadata": {},
   "outputs": [],
   "source": [
    "#| default_exp log_utils"
   ]
  },
  {
   "cell_type": "code",
   "execution_count": null,
   "metadata": {},
   "outputs": [],
   "source": [
    "#| hide\n",
    "from nbdev.showdoc import *"
   ]
  },
  {
   "cell_type": "code",
   "execution_count": null,
   "metadata": {},
   "outputs": [],
   "source": [
    "#| export\n",
    "\n",
    "import sys\n",
    "import logging\n",
    "import sys, io\n",
    "from contextlib import redirect_stdout, redirect_stderr"
   ]
  },
  {
   "cell_type": "code",
   "execution_count": null,
   "metadata": {},
   "outputs": [],
   "source": [
    "#| export\n",
    "\n",
    "def in_ipython() -> bool:\n",
    "    try:\n",
    "        from IPython import get_ipython  # noqa\n",
    "        return get_ipython() is not None\n",
    "    except Exception:\n",
    "        return False\n",
    "\n",
    "def setup_logger(name: str = \"app\", level: int = logging.INFO) -> logging.Logger:\n",
    "    \"\"\"\n",
    "    Create a logger that works in Jupyter (threads) and normal Python scripts.\n",
    "    - In notebooks: writes to sys.__stdout__ to avoid IPython's capture issues\n",
    "    - In scripts:   writes to sys.stdout\n",
    "    \"\"\"\n",
    "    stream = sys.__stdout__ if in_ipython() else sys.stdout\n",
    "\n",
    "    logger = logging.getLogger(name)\n",
    "    logger.setLevel(level)\n",
    "\n",
    "    # Clear existing handlers to avoid duplicate logs when re-running a cell\n",
    "    logger.handlers.clear()\n",
    "    logger.propagate = False\n",
    "\n",
    "    handler = logging.StreamHandler(stream=stream)\n",
    "    handler.setLevel(level)\n",
    "    handler.flush = handler.flush  # explicit, but ensures availability\n",
    "\n",
    "    fmt = logging.Formatter(\"%(asctime)s | %(levelname)s | %(threadName)s | %(message)s\")\n",
    "    handler.setFormatter(fmt)\n",
    "\n",
    "    logger.addHandler(handler)\n",
    "    return logger\n"
   ]
  },
  {
   "cell_type": "code",
   "execution_count": null,
   "metadata": {},
   "outputs": [],
   "source": [
    "#| export\n",
    "\n",
    "def call_with_visible_output(fn, *args, **kwargs):\n",
    "    \"\"\"\n",
    "    Run fn(*args, **kwargs) while capturing stdout/stderr, then\n",
    "    mirror that output to the real stdout/stderr so it appears in\n",
    "    Jupyter and in normal scripts.\n",
    "    \"\"\"\n",
    "    buf = io.StringIO()\n",
    "    err = io.StringIO()\n",
    "    with redirect_stdout(buf), redirect_stderr(err):\n",
    "        result = fn(*args, **kwargs)\n",
    "    out_text = buf.getvalue()\n",
    "    err_text = err.getvalue()\n",
    "    if out_text:\n",
    "        sys.__stdout__.write(out_text)\n",
    "        sys.__stdout__.flush()\n",
    "    if err_text:\n",
    "        sys.__stderr__.write(err_text)\n",
    "        sys.__stderr__.flush()\n",
    "    return result"
   ]
  },
  {
   "cell_type": "code",
   "execution_count": null,
   "metadata": {},
   "outputs": [],
   "source": [
    "#| hide\n",
    "import nbdev; nbdev.nbdev_export()"
   ]
  }
 ],
 "metadata": {
  "kernelspec": {
   "display_name": "python3",
   "language": "python",
   "name": "python3"
  }
 },
 "nbformat": 4,
 "nbformat_minor": 4
}
